{
  "nbformat": 4,
  "nbformat_minor": 0,
  "metadata": {
    "colab": {
      "provenance": [],
      "authorship_tag": "ABX9TyMgAcuCbWISJHpV5qdxVPzb",
      "include_colab_link": true
    },
    "kernelspec": {
      "name": "python3",
      "display_name": "Python 3"
    },
    "language_info": {
      "name": "python"
    }
  },
  "cells": [
    {
      "cell_type": "markdown",
      "metadata": {
        "id": "view-in-github",
        "colab_type": "text"
      },
      "source": [
        "<a href=\"https://colab.research.google.com/github/Namrahh/AI-Projects/blob/main/object_detection_clean.ipynb\" target=\"_parent\"><img src=\"https://colab.research.google.com/assets/colab-badge.svg\" alt=\"Open In Colab\"/></a>"
      ]
    },
    {
      "cell_type": "code",
      "execution_count": null,
      "metadata": {
        "id": "MsUJJLTPUP_x"
      },
      "outputs": [],
      "source": [
        "!pip3 install keras"
      ]
    },
    {
      "cell_type": "code",
      "source": [
        "!pip3 install simple_image_download==0.4"
      ],
      "metadata": {
        "id": "vdQu7UVQUXEw"
      },
      "execution_count": null,
      "outputs": []
    },
    {
      "cell_type": "code",
      "source": [
        "from simple_image_download import simple_image_download as simp"
      ],
      "metadata": {
        "id": "r8LOmhGyUY8k"
      },
      "execution_count": null,
      "outputs": []
    },
    {
      "cell_type": "code",
      "source": [
        "response = simp.simple_image_download\n",
        "keywords = [\"building workers\"]\n",
        "for kw in keywords:\n",
        "    response().download(kw, 200)"
      ],
      "metadata": {
        "id": "cDwMlwesUbfT"
      },
      "execution_count": null,
      "outputs": []
    },
    {
      "cell_type": "code",
      "source": [
        "!pip3 install labelImg"
      ],
      "metadata": {
        "id": "hmIVdDZPUdVM"
      },
      "execution_count": null,
      "outputs": []
    },
    {
      "cell_type": "code",
      "source": [
        "!labelImg"
      ],
      "metadata": {
        "id": "EMvs0pCeUfUc"
      },
      "execution_count": null,
      "outputs": []
    },
    {
      "cell_type": "code",
      "source": [
        "from google.colab import drive\n",
        "drive.mount('/content/drive')"
      ],
      "metadata": {
        "id": "z_AGh4OvUh19"
      },
      "execution_count": null,
      "outputs": []
    },
    {
      "cell_type": "code",
      "source": [
        "!ls /content/drive/MyDrive/Data"
      ],
      "metadata": {
        "id": "Qbci3xGoUken"
      },
      "execution_count": null,
      "outputs": []
    },
    {
      "cell_type": "code",
      "source": [
        "!pip install torch torchvision torchaudio"
      ],
      "metadata": {
        "id": "f_-v-s3zUmSd"
      },
      "execution_count": null,
      "outputs": []
    },
    {
      "cell_type": "code",
      "source": [
        "!pip install yolov5"
      ],
      "metadata": {
        "id": "JeC_mudHUoP7"
      },
      "execution_count": null,
      "outputs": []
    },
    {
      "cell_type": "code",
      "source": [
        "!git clone https://github.com/ultralytics/yolov5"
      ],
      "metadata": {
        "id": "d2uyXllhUqVY"
      },
      "execution_count": null,
      "outputs": []
    },
    {
      "cell_type": "code",
      "source": [
        "%cd yolov5\n",
        "!pip install -U -r requirements.txt"
      ],
      "metadata": {
        "id": "LwI0XfhRUvh0"
      },
      "execution_count": null,
      "outputs": []
    },
    {
      "cell_type": "code",
      "source": [
        "%cd yolov5"
      ],
      "metadata": {
        "id": "gzOYvRuFUxgt"
      },
      "execution_count": null,
      "outputs": []
    },
    {
      "cell_type": "code",
      "source": [
        "# Uninstall the current version of NumPy\n",
        "!pip uninstall numpy -y\n",
        "\n",
        "# Install a compatible version of NumPy (e.g., 1.21)\n",
        "!pip install numpy==1.24.1"
      ],
      "metadata": {
        "id": "jn2SIQ_-U2od"
      },
      "execution_count": null,
      "outputs": []
    },
    {
      "cell_type": "code",
      "source": [
        "# Uninstall the existing TensorFlow version\n",
        "!pip uninstall tensorflow -y\n",
        "\n",
        "# Install TensorFlow 2.10 (or a compatible version)\n",
        "!pip install tensorflow==2.10\n",
        "\n",
        "# Reinstall TensorBoard to fix issues with the logging functionality\n",
        "!pip install tensorboard==2.10\n"
      ],
      "metadata": {
        "id": "E--cwVJzU4u5"
      },
      "execution_count": null,
      "outputs": []
    },
    {
      "cell_type": "code",
      "source": [
        "!python3 train.py --img 640 --batch 16 --epochs 5 --data /content/drive/MyDrive/Data/CustomFile.yaml --weights yolov5s.pt"
      ],
      "metadata": {
        "id": "jsCI9AViU68f"
      },
      "execution_count": null,
      "outputs": []
    },
    {
      "cell_type": "code",
      "source": [
        "!python detect.py --weights runs/train/exp2/weights/yolov5s.pt --img 640 --source /content/drive/MyDrive/Data/val/images"
      ],
      "metadata": {
        "id": "3xk_xCsyU_IP"
      },
      "execution_count": null,
      "outputs": []
    },
    {
      "cell_type": "code",
      "source": [
        "!python3 train.py --img 640 --batch 16 --epochs 30 --data /content/drive/MyDrive/Data/CustomFile.yaml --weights yolov5s.pt --project runs/train --name exp9"
      ],
      "metadata": {
        "id": "VEjokM5PVC8w"
      },
      "execution_count": null,
      "outputs": []
    },
    {
      "cell_type": "code",
      "source": [
        "!ls runs/train/exp9/weights/"
      ],
      "metadata": {
        "id": "2albJGObVFfQ"
      },
      "execution_count": null,
      "outputs": []
    },
    {
      "cell_type": "code",
      "source": [
        "!python detect.py --weights runs/train/exp9/weights/best.pt --img 640 --source /content/drive/MyDrive/Data/val/images"
      ],
      "metadata": {
        "id": "JBImIo3qVIFb"
      },
      "execution_count": null,
      "outputs": []
    },
    {
      "cell_type": "code",
      "source": [
        "import matplotlib.pyplot as plt\n",
        "import matplotlib.image as mpimg\n",
        "from pathlib import Path\n",
        "\n",
        "# Define the path to the output directory where results are saved\n",
        "output_dir = Path('runs/detect/exp5')  # Adjust if your output folder is different\n",
        "image_files = list(output_dir.glob('*.jpeg'))  # Get all result images (usually jpg)\n",
        "\n",
        "# Display the first result image\n",
        "#print(image_files)\n",
        "img_path = image_files[1]  # Choose which image you want to display\n",
        "img = mpimg.imread(img_path)\n",
        "\n",
        "# Display the image with detected objects\n",
        "plt.figure(figsize=(10, 10))\n",
        "plt.imshow(img)\n",
        "plt.axis('off')  # Hide axis\n",
        "plt.show()"
      ],
      "metadata": {
        "id": "Xcw7BJE8VNDu"
      },
      "execution_count": null,
      "outputs": []
    }
  ]
}